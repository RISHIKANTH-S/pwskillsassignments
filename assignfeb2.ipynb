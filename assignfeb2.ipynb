{
 "cells": [
  {
   "cell_type": "code",
   "execution_count": null,
   "id": "fc6607c6-96ef-46ef-8bdb-2e2d55b2c54f",
   "metadata": {},
   "outputs": [],
   "source": [
    "1)Tuples are immutable. immutable insense values in tuples cant be re-assigned such as i.e-t[2]=3.\n",
    "They are indexed i.e they can be accessed via indexing. \n",
    "they are ordered\n",
    "They can contain duplicate items unlike sets\n"
   ]
  },
  {
   "cell_type": "code",
   "execution_count": 6,
   "id": "6e2b8c04-3b52-41c4-97f0-8b34acc8acb7",
   "metadata": {},
   "outputs": [
    {
     "name": "stdout",
     "output_type": "stream",
     "text": [
      "1\n"
     ]
    }
   ],
   "source": [
    "2)two methods in tuples are:count,index\n",
    "count:they show frequency of element\n",
    "t=(1,2,3,4,3)\n",
    "print(t.count(3)) res=2\n",
    "index:they show index number of element\n",
    "t=(1,2,3,4,3)\n",
    "print(t.index(2)) res=1\n",
    "Tuples in Python are designed to be immutable, which means their contents cannot be changed.\n",
    "but in lists we perfrom add,modify,delete,change of values.so unlike lists we dont need many functions"
   ]
  },
  {
   "cell_type": "code",
   "execution_count": 8,
   "id": "7c1160c1-2c6d-46ab-a53f-1c692919f454",
   "metadata": {},
   "outputs": [
    {
     "name": "stdout",
     "output_type": "stream",
     "text": [
      "{1, 2, 3, 4}\n"
     ]
    }
   ],
   "source": [
    "3)set to do not allow duplicate items in list.\n",
    "l = [1, 1, 1, 2, 1, 3, 1, 4, 2, 1, 2, 2, 2, 3, 2, 4, 3, 1, 3, 2, 3, 3, 3, 4, 4, 1, 4, 2, 4, 3, 4, 4]\n",
    "print(set(l)) res={1, 2, 3, 4}\n"
   ]
  },
  {
   "cell_type": "code",
   "execution_count": 9,
   "id": "be54d78d-09a3-4c20-950d-80f0595aadf1",
   "metadata": {},
   "outputs": [
    {
     "name": "stdout",
     "output_type": "stream",
     "text": [
      "{1, 2, 3, 4, 5}\n"
     ]
    }
   ],
   "source": [
    "4)union and update functionally performs same that is merging to sets.but in implementations they are different.\n",
    "union:here the union methods returns new set.where the merged sets stored\n",
    "s1 = {1, 2, 3}\n",
    "s2 = {3, 4, 5}\n",
    "s3 = s1.union(s2)#here the returned list get stored in s3.which is new set.\n",
    "print(s3)\n",
    "update:here the update appends the new set to existing set\n",
    "s1 = {1, 2, 3}\n",
    "s2 = {3, 4, 5}\n",
    "print(s1.update(s2))\n"
   ]
  },
  {
   "cell_type": "code",
   "execution_count": 12,
   "id": "c0344655-acd2-42bc-8249-97f61415878b",
   "metadata": {},
   "outputs": [
    {
     "name": "stdout",
     "output_type": "stream",
     "text": [
      "{'ramesh': 'student', 'suresh': 'student', 'suresh1': 'student'}\n"
     ]
    }
   ],
   "source": [
    "5) dictionaries are key value collectons in pyhton.where keys are unique\n",
    "d={\"ramesh\":\"student\",\"suresh\":\"student\"}\n",
    "print(d)\n",
    "dictionaries are ordered elements."
   ]
  },
  {
   "cell_type": "code",
   "execution_count": 15,
   "id": "1be665ee-c163-455f-86aa-c266c44cb836",
   "metadata": {},
   "outputs": [
    {
     "name": "stdout",
     "output_type": "stream",
     "text": [
      "rhb\n",
      "dict_keys(['batting', 'bowling'])\n"
     ]
    }
   ],
   "source": [
    "6)nested dictionaries that contains one or more dictionaries in dictionary.\n",
    "d={\"batting\":{\"virat\":\"rhb\",\"ishan\":\"lhb\"},\"bowling\":{\"ashwin\":\"spin\",\"siraj\":\"fast\"}}\n",
    "print(d[\"batting\"][\"virat\"])\n",
    "print(d.keys())"
   ]
  },
  {
   "cell_type": "code",
   "execution_count": 21,
   "id": "559c5b79-340d-4710-b54b-1540d96a4901",
   "metadata": {},
   "outputs": [
    {
     "name": "stdout",
     "output_type": "stream",
     "text": [
      "['Python', 'Machine Learning', 'Deep Learning']\n",
      "{'language': 'Python', 'course': 'Data Science Masters', 'topics': ['Python', 'Machine Learning', 'Deep Learning']}\n"
     ]
    }
   ],
   "source": [
    "7) setdefault() is a default value is set to key to avoid key error exceptions.which means while fetching if value is\n",
    "not present with associated key this setdefault triggers.if present the value associated with keys projects.\n",
    "dict = {'language' : 'Python', 'course': 'Data Science Masters'}\n",
    "print(dict.setdefault('topics',['Python','Machine Learning','Deep Learning'])) # Output: here topics default value is ths list\n",
    "print(dict) \n"
   ]
  },
  {
   "cell_type": "code",
   "execution_count": 22,
   "id": "9e14cc12-d1cc-4cf6-8b80-6204f6a3cc7d",
   "metadata": {},
   "outputs": [
    {
     "name": "stdout",
     "output_type": "stream",
     "text": [
      "dict_keys(['ramesh', 'suresh'])\n",
      "dict_values(['student', 'student'])\n",
      "dict_items([('ramesh', 'student'), ('suresh', 'student')])\n"
     ]
    }
   ],
   "source": [
    "8)there are 3 view objects in dictionaries.these are used to get keys,values,items for dictionaries.\n",
    "dict.keys(),dict.values(),dict.items()\n",
    "d={\"ramesh\":\"student\",\"suresh\":\"student\"}\n",
    "print(d.keys())\n",
    "print(d.values())\n",
    "print(d.items())#here op is as (key,value)"
   ]
  },
  {
   "cell_type": "code",
   "execution_count": null,
   "id": "b7a848a3-1c60-4516-b1e6-3437a135166e",
   "metadata": {},
   "outputs": [],
   "source": []
  }
 ],
 "metadata": {
  "kernelspec": {
   "display_name": "Python 3 (ipykernel)",
   "language": "python",
   "name": "python3"
  },
  "language_info": {
   "codemirror_mode": {
    "name": "ipython",
    "version": 3
   },
   "file_extension": ".py",
   "mimetype": "text/x-python",
   "name": "python",
   "nbconvert_exporter": "python",
   "pygments_lexer": "ipython3",
   "version": "3.10.8"
  }
 },
 "nbformat": 4,
 "nbformat_minor": 5
}
