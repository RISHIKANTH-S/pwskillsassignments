{
 "cells": [
  {
   "cell_type": "code",
   "execution_count": null,
   "id": "9be9f0eb-4655-4388-9435-1fc925786b7a",
   "metadata": {},
   "outputs": [],
   "source": [
    "API is called application programming interface where two homogenous or heterogenous(systems) or applications communicate each other.\n",
    "here these api dont involve with direct source code interaction of partner systems and just act as interface for CRUD operations.\n",
    "Real life examples of API are gmaps or map my india. these companies expose their api to food delivery apps and navigation systems in\n",
    "cars. their partner companies use this api for accessing location data. "
   ]
  },
  {
   "cell_type": "code",
   "execution_count": null,
   "id": "fdc0fab8-a0a3-4dfa-94cd-81111b1de034",
   "metadata": {},
   "outputs": [],
   "source": [
    "advantages:\n",
    "we can communicate between two systems and applications with standard protocols\n",
    "easier to integrate and no need of developing software from scratch.\n",
    "scalable for applications to grow their business as they can add new features to their applications\n",
    "disadvantages:\n",
    "if api  not implemented securely can have a security risk of leaking of users data\n",
    "overdependency on third party providers for giving their api.\n",
    "we need to pay premium for using third party api which is a constraint for smaller business\n"
   ]
  },
  {
   "cell_type": "code",
   "execution_count": null,
   "id": "6d574a8d-1841-4aff-8988-0ff51f16fc01",
   "metadata": {},
   "outputs": [],
   "source": [
    "A Web API is a set of protocols,standards used to build and interact with web-based software applications. A Web API allows different software systems to communicate with each other over the internet, for exchange of data.\n",
    "Web APIs are usually based on HTTP (Hypertext Transfer Protocol), which is the protocol used for transferring data over the web.\n",
    "api:\n",
    "these use tcp smtp and http protocols for communicatons.\n",
    "these are used for mobile and web based applcns.\n",
    "web api:\n",
    "these use http protocol for commmunication\n",
    "these are specially designed for web based sw applications\n",
    "\n"
   ]
  },
  {
   "cell_type": "code",
   "execution_count": null,
   "id": "debec42a-5544-4415-b595-382414b9fd86",
   "metadata": {},
   "outputs": [],
   "source": [
    "REST is a style of architecture that uses HTTP as the communication protocol for trasnfer of data. RESTful services are designed around resources, which are identified by URIs (Uniform Resource Identifiers). The HTTP methods (GET, POST, PUT, DELETE, etc.) are used to interact with these resources, and the responses are typically in JSON or XML format.\n",
    "SOAP (Simple Object Access Protocol) is a messaging protocol that uses XML as the message format. SOAP is designed to be used with a variety of transport protocols, including HTTP, SMTP, and TCP. SOAP defines a standard message structure, including a header and a body, and it also includes support for security, transactions, and other advanced features. SOAP is widely used in enterprise applications, where these features are often required.\n",
    "One of the main shortcomings of SOAP is that it is more complex than REST. The XML-based message format and the SOAP envelope make it more difficult to read and parse than JSON or plain XML. SOAP messages also tend to be larger than their REST counterparts, which can impact performance. Finally, SOAP is more tightly coupled than REST, which can make it more difficult to change or update the service.\n",
    "\n",
    "\n",
    "\n",
    "\n"
   ]
  },
  {
   "cell_type": "code",
   "execution_count": null,
   "id": "928964d4-ae78-4807-a205-893fe631350b",
   "metadata": {},
   "outputs": [],
   "source": [
    "REST (Representational State Transfer) and SOAP (Simple Object Access Protocol) are two different architectural styles used for building web services. Here are some of the main differences between them:\n",
    "Communication Protocol: REST uses HTTP as the communication protocol, while SOAP can use a variety of protocols including HTTP, SMTP, and TCP.\n",
    "Message Format: REST typically uses JSON or XML as the message format, while SOAP uses only XML.\n",
    "Simplicity: REST is often considered simpler than SOAP, as it has a lightweight and flexible architecture that is easy to understand and use. SOAP, on the other hand, has a more complex and rigid architecture, which can make it more difficult to implement and use.\n",
    "Performance: REST is generally considered to have better performance than SOAP, as it uses a lightweight message format and relies on the caching capabilities of HTTP. SOAP, on the other hand, can be slower due to its more complex message format and additional processing overhead.\n",
    "Scalability: REST is highly scalable, as it allows for the caching of resources and the use of load balancers to distribute requests. SOAP can also be scalable, but it may require more resources to handle the additional processing overhead.\n",
    "securit:SOAP is more secure than Rest so it \n",
    "Overall, REST and SOAP are two different architectural styles with their own strengths and weaknesses. Which one to use depends on the specific requirements of the application being built.\n",
    "\n",
    "\n",
    "\n"
   ]
  }
 ],
 "metadata": {
  "kernelspec": {
   "display_name": "Python 3 (ipykernel)",
   "language": "python",
   "name": "python3"
  },
  "language_info": {
   "codemirror_mode": {
    "name": "ipython",
    "version": 3
   },
   "file_extension": ".py",
   "mimetype": "text/x-python",
   "name": "python",
   "nbconvert_exporter": "python",
   "pygments_lexer": "ipython3",
   "version": "3.10.8"
  }
 },
 "nbformat": 4,
 "nbformat_minor": 5
}
