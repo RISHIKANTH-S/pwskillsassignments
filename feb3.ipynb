{
 "cells": [
  {
   "cell_type": "code",
   "execution_count": 6,
   "id": "44aa3f10-fe4e-4cf3-9192-33791ac552cf",
   "metadata": {},
   "outputs": [
    {
     "name": "stdout",
     "output_type": "stream",
     "text": [
      "1\n",
      "3\n",
      "5\n",
      "7\n",
      "9\n",
      "11\n",
      "13\n",
      "15\n",
      "17\n",
      "19\n",
      "21\n",
      "23\n",
      "25\n"
     ]
    }
   ],
   "source": [
    "def keyword is used to create a function in python.\n",
    "ex: odd numbers from 1 to 25\n",
    "def odd():\n",
    "    for i in range(1,26):\n",
    "        if i%2!=0:\n",
    "            print(i)\n",
    "odd()\n",
    "    "
   ]
  },
  {
   "cell_type": "code",
   "execution_count": 17,
   "id": "940c6d9f-dfcf-423d-bae4-04d3fb5fc6f7",
   "metadata": {},
   "outputs": [
    {
     "name": "stdout",
     "output_type": "stream",
     "text": [
      "()\n"
     ]
    },
    {
     "data": {
      "text/plain": [
       "'kwargs:if we want to take multiple key value pairs as input to function as arguments then we use kwargs.it results a dictionary as op.\\ndef test2(**kwargs):\\n    return kwargs\\ntest2(a=32,b=35)'"
      ]
     },
     "execution_count": 17,
     "metadata": {},
     "output_type": "execute_result"
    }
   ],
   "source": [
    "2)args,kwargs\n",
    "args:if we want to take multiple input to function as arguments then we use args.it results a tuple as op\n",
    "def test1(*args):\n",
    "    return args\n",
    "test1(2,3,4,\"rishi\")\n",
    "\n",
    "\n",
    "kwargs:if we want to take multiple key value pairs as input to function as arguments then we use kwargs.it results a dictionary as op.\n",
    "def test2(**kwargs):\n",
    "    return kwargs\n",
    "test2(a=32,b=35)"
   ]
  },
  {
   "cell_type": "code",
   "execution_count": 11,
   "id": "ec7f76fb-1cc0-49b1-ba7b-d6f7477ab55b",
   "metadata": {},
   "outputs": [
    {
     "name": "stdout",
     "output_type": "stream",
     "text": [
      "<list_iterator object at 0x7f7d284794e0>\n",
      "2\n",
      "4\n",
      "6\n",
      "8\n",
      "10\n"
     ]
    }
   ],
   "source": [
    "#3)Iterator is an object that traverse through elements of collection such as list,tuple\n",
    "#iter()method is used to initialise iterator with input as iterator object tht is list and returns object.\n",
    "l=[2, 4, 6, 8, 10, 12, 14, 16,18,20]\n",
    "itr=iter(l)\n",
    "print(itr)\n",
    "for i in range(5):\n",
    "    print(next(itr))#next method is used to retrieve next element in iterable object\n",
    "    \n"
   ]
  },
  {
   "cell_type": "code",
   "execution_count": 25,
   "id": "35e0522f-7e7f-4da0-a88f-cd760245fd81",
   "metadata": {},
   "outputs": [
    {
     "name": "stdout",
     "output_type": "stream",
     "text": [
      "1\n",
      "3\n",
      "5\n",
      "7\n",
      "9\n",
      "11\n",
      "13\n",
      "15\n",
      "17\n",
      "19\n",
      "21\n",
      "23\n",
      "25\n"
     ]
    }
   ],
   "source": [
    "\"\"\"4)generator function is a special type of function that uses yield keyword to produce a sequence of values.\n",
    "it is used for memory optimization over normal functions like when we use lists it produces values at single time so it take\n",
    "lot of time to produce sequence of values but in generators values are produced at sequence when the result is produced.\n",
    "ex:\"\"\"\n",
    "def odd():\n",
    "    for i in range(1,26):\n",
    "        if i%2!=0:\n",
    "            yield i\n",
    "for i in odd():\n",
    "    print(i)\n",
    "# here in normal functions we return or print statments to display result.but in generator we use yield keyword to produce values."
   ]
  },
  {
   "cell_type": "code",
   "execution_count": 45,
   "id": "2c0fe653-bf15-463f-91f4-255af3aa7647",
   "metadata": {},
   "outputs": [
    {
     "name": "stdout",
     "output_type": "stream",
     "text": [
      "2\n",
      "3\n",
      "5\n",
      "7\n",
      "11\n",
      "13\n",
      "17\n",
      "19\n",
      "23\n",
      "29\n",
      "31\n",
      "37\n",
      "41\n",
      "43\n",
      "47\n",
      "53\n",
      "59\n",
      "61\n",
      "67\n",
      "71\n"
     ]
    }
   ],
   "source": [
    "def prime():\n",
    "    primes = []\n",
    "    n = 2\n",
    "    while n < 1000:\n",
    "        is_prime = True\n",
    "        for i in primes:\n",
    "            if n % i == 0:\n",
    "                is_prime = False\n",
    "                break\n",
    "        if is_prime:\n",
    "            primes.append(n)\n",
    "            yield n\n",
    "        n += 1\n",
    "prime_generator = prime()\n",
    "c=0\n",
    "while(c<20):\n",
    "    print(next(prime_generator))\n",
    "    c=c+1\n",
    "    \n",
    "\n",
    "\n",
    "\n",
    "    \n"
   ]
  },
  {
   "cell_type": "code",
   "execution_count": null,
   "id": "2f34e11e-5c77-4fd6-ac73-fa6c750150ec",
   "metadata": {},
   "outputs": [],
   "source": []
  },
  {
   "cell_type": "code",
   "execution_count": null,
   "id": "61cbd4b1-7f09-46a9-931f-3de063f2ee6c",
   "metadata": {},
   "outputs": [],
   "source": []
  }
 ],
 "metadata": {
  "kernelspec": {
   "display_name": "Python 3 (ipykernel)",
   "language": "python",
   "name": "python3"
  },
  "language_info": {
   "codemirror_mode": {
    "name": "ipython",
    "version": 3
   },
   "file_extension": ".py",
   "mimetype": "text/x-python",
   "name": "python",
   "nbconvert_exporter": "python",
   "pygments_lexer": "ipython3",
   "version": "3.10.8"
  }
 },
 "nbformat": 4,
 "nbformat_minor": 5
}
